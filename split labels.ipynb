{
 "cells": [
  {
   "cell_type": "code",
   "execution_count": 15,
   "metadata": {},
   "outputs": [],
   "source": [
    "import numpy as np\n",
    "import pandas as pd\n",
    "np.random.seed(1)"
   ]
  },
  {
   "cell_type": "code",
   "execution_count": 16,
   "metadata": {},
   "outputs": [],
   "source": [
    "full_labels = pd.read_csv('data/cell_labels.csv')"
   ]
  },
  {
   "cell_type": "code",
   "execution_count": 17,
   "metadata": {},
   "outputs": [
    {
     "data": {
      "text/html": [
       "<div>\n",
       "<style scoped>\n",
       "    .dataframe tbody tr th:only-of-type {\n",
       "        vertical-align: middle;\n",
       "    }\n",
       "\n",
       "    .dataframe tbody tr th {\n",
       "        vertical-align: top;\n",
       "    }\n",
       "\n",
       "    .dataframe thead th {\n",
       "        text-align: right;\n",
       "    }\n",
       "</style>\n",
       "<table border=\"1\" class=\"dataframe\">\n",
       "  <thead>\n",
       "    <tr style=\"text-align: right;\">\n",
       "      <th></th>\n",
       "      <th>filename</th>\n",
       "      <th>width</th>\n",
       "      <th>height</th>\n",
       "      <th>class</th>\n",
       "      <th>xmin</th>\n",
       "      <th>ymin</th>\n",
       "      <th>xmax</th>\n",
       "      <th>ymax</th>\n",
       "    </tr>\n",
       "  </thead>\n",
       "  <tbody>\n",
       "    <tr>\n",
       "      <th>0</th>\n",
       "      <td>2-49#-0864.jpg</td>\n",
       "      <td>1200</td>\n",
       "      <td>1632</td>\n",
       "      <td>cell_0</td>\n",
       "      <td>1047</td>\n",
       "      <td>781</td>\n",
       "      <td>1200</td>\n",
       "      <td>930</td>\n",
       "    </tr>\n",
       "    <tr>\n",
       "      <th>1</th>\n",
       "      <td>2-49#-0870.jpg</td>\n",
       "      <td>1200</td>\n",
       "      <td>1632</td>\n",
       "      <td>cell_0</td>\n",
       "      <td>787</td>\n",
       "      <td>669</td>\n",
       "      <td>943</td>\n",
       "      <td>825</td>\n",
       "    </tr>\n",
       "    <tr>\n",
       "      <th>2</th>\n",
       "      <td>2-49#-0694.jpg</td>\n",
       "      <td>1200</td>\n",
       "      <td>1632</td>\n",
       "      <td>cell_1</td>\n",
       "      <td>238</td>\n",
       "      <td>723</td>\n",
       "      <td>419</td>\n",
       "      <td>862</td>\n",
       "    </tr>\n",
       "    <tr>\n",
       "      <th>3</th>\n",
       "      <td>2-49#-1005.jpg</td>\n",
       "      <td>1200</td>\n",
       "      <td>1632</td>\n",
       "      <td>cell_0</td>\n",
       "      <td>913</td>\n",
       "      <td>743</td>\n",
       "      <td>1078</td>\n",
       "      <td>895</td>\n",
       "    </tr>\n",
       "    <tr>\n",
       "      <th>4</th>\n",
       "      <td>3-50#-1571.jpg</td>\n",
       "      <td>1200</td>\n",
       "      <td>1632</td>\n",
       "      <td>cell_0</td>\n",
       "      <td>1020</td>\n",
       "      <td>762</td>\n",
       "      <td>1180</td>\n",
       "      <td>918</td>\n",
       "    </tr>\n",
       "  </tbody>\n",
       "</table>\n",
       "</div>"
      ],
      "text/plain": [
       "         filename  width  height   class  xmin  ymin  xmax  ymax\n",
       "0  2-49#-0864.jpg   1200    1632  cell_0  1047   781  1200   930\n",
       "1  2-49#-0870.jpg   1200    1632  cell_0   787   669   943   825\n",
       "2  2-49#-0694.jpg   1200    1632  cell_1   238   723   419   862\n",
       "3  2-49#-1005.jpg   1200    1632  cell_0   913   743  1078   895\n",
       "4  3-50#-1571.jpg   1200    1632  cell_0  1020   762  1180   918"
      ]
     },
     "execution_count": 17,
     "metadata": {},
     "output_type": "execute_result"
    }
   ],
   "source": [
    "full_labels.head()"
   ]
  },
  {
   "cell_type": "code",
   "execution_count": 18,
   "metadata": {},
   "outputs": [],
   "source": [
    "grouped = full_labels.groupby('filename')"
   ]
  },
  {
   "cell_type": "code",
   "execution_count": 19,
   "metadata": {},
   "outputs": [
    {
     "data": {
      "text/plain": [
       "1    429\n",
       "dtype: int64"
      ]
     },
     "execution_count": 19,
     "metadata": {},
     "output_type": "execute_result"
    }
   ],
   "source": [
    "grouped.apply(lambda x: len(x)).value_counts()"
   ]
  },
  {
   "cell_type": "markdown",
   "metadata": {},
   "source": [
    "### split each file into a group in a list"
   ]
  },
  {
   "cell_type": "code",
   "execution_count": 20,
   "metadata": {},
   "outputs": [],
   "source": [
    "gb = full_labels.groupby('filename')"
   ]
  },
  {
   "cell_type": "code",
   "execution_count": 21,
   "metadata": {},
   "outputs": [],
   "source": [
    "grouped_list = [gb.get_group(x) for x in gb.groups]"
   ]
  },
  {
   "cell_type": "code",
   "execution_count": 22,
   "metadata": {},
   "outputs": [
    {
     "data": {
      "text/plain": [
       "429"
      ]
     },
     "execution_count": 22,
     "metadata": {},
     "output_type": "execute_result"
    }
   ],
   "source": [
    "len(grouped_list)"
   ]
  },
  {
   "cell_type": "code",
   "execution_count": 34,
   "metadata": {},
   "outputs": [],
   "source": [
    "train_index = np.random.choice(len(grouped_list), size=343, replace=False)\n",
    "test_index = np.setdiff1d(list(range(len(grouped_list))), train_index)"
   ]
  },
  {
   "cell_type": "code",
   "execution_count": 35,
   "metadata": {},
   "outputs": [
    {
     "name": "stdout",
     "output_type": "stream",
     "text": [
      "[  1   2   7  10  14  16  17  44  45  52  55  56  59  62  68  74  78  83\n",
      "  87  88  90  92  97 103 109 110 117 130 132 135 142 143 146 148 159 170\n",
      " 179 187 189 192 198 203 211 213 215 216 227 238 239 242 251 261 274 276\n",
      " 284 286 294 298 308 311 315 321 325 331 332 335 343 346 350 352 353 354\n",
      " 355 363 365 371 380 381 394 399 406 409 410 411 420 423]\n",
      "[393 246  89 154 136 344 260 391 282  70 235 220  26 193  77 296 313  36\n",
      " 243 245 184 367 165 223  98 123 133 280 194 256 164 375 175 366 180 304\n",
      " 210  47 275 114 334 351 339 273 108 379 319 229  41 378 390 134   4 360\n",
      " 376 122 312 402  67  48 267 190 241 348 398 362 222 166 120 317 329 177\n",
      " 327 333  75 415 196  23 374 240 244 287 408 155   9  69 428 254 126 127\n",
      " 111 249  91 412 106 295 310 405 137 173 301  82 209  53 149  11 248 144\n",
      " 427 167 401  86 202 225  27 107 116 322  95  65 147 118  60 403 226 253\n",
      " 285 186 326 291 372   8 141 330 419 224  12 158  71 252  50 338  13 125\n",
      " 422 386 191 278 369  93  43 302 212  28 218  46  85  32   3 268 185 201\n",
      " 292 140 161 359 247 361 271 324  33 392 197 424 309 168 199  76 183 305\n",
      " 303 156 176   0  24   6 400 182 105 206 115  63 219 231 237 230 205  30\n",
      " 314 272 277 257 425 151 345 328  20  37 320 145 153 397 318 407  18 121\n",
      " 356 162  66 418  15  79 389 258 113 385  39 281 200  35 377  80 178  73\n",
      "  84 101 382 347 264 342  42  54 262 102 364  29  72 293 181 157 214 232\n",
      " 100 233 337 349 283 221 279 384 368 396 373  40  64  58  99 255 357 290\n",
      " 297 131 340 370 119 150  34 323  25 336 169 421 383 269 387 270 250 417\n",
      "  57 163 217 413 414 208 288 104 236 174 404  22 204 188 234 129 395  21\n",
      " 316 172  19  81 195  51 259 416 207 426  61 138 124 358  49  94 266 388\n",
      " 299 152  96 112 263 171 300 139  38 341 265 128 289   5 307 306 160  31\n",
      " 228]\n"
     ]
    }
   ],
   "source": [
    "print(test_index)\n",
    "print(train_index)"
   ]
  },
  {
   "cell_type": "code",
   "execution_count": 36,
   "metadata": {},
   "outputs": [
    {
     "data": {
      "text/plain": [
       "(343, 86)"
      ]
     },
     "execution_count": 36,
     "metadata": {},
     "output_type": "execute_result"
    }
   ],
   "source": [
    "len(train_index), len(test_index)"
   ]
  },
  {
   "cell_type": "code",
   "execution_count": 37,
   "metadata": {},
   "outputs": [],
   "source": [
    "# take first 200 files\n",
    "train = pd.concat([grouped_list[i] for i in train_index])\n",
    "test = pd.concat([grouped_list[i] for i in test_index])"
   ]
  },
  {
   "cell_type": "code",
   "execution_count": 38,
   "metadata": {},
   "outputs": [
    {
     "data": {
      "text/plain": [
       "(343, 86)"
      ]
     },
     "execution_count": 38,
     "metadata": {},
     "output_type": "execute_result"
    }
   ],
   "source": [
    "len(train), len(test)"
   ]
  },
  {
   "cell_type": "code",
   "execution_count": 39,
   "metadata": {},
   "outputs": [],
   "source": [
    "train.to_csv('train_labels.csv', index=None)\n",
    "test.to_csv('test_labels.csv', index=None)"
   ]
  },
  {
   "cell_type": "code",
   "execution_count": null,
   "metadata": {
    "collapsed": true
   },
   "outputs": [],
   "source": []
  }
 ],
 "metadata": {
  "kernelspec": {
   "display_name": "Python 3",
   "language": "python",
   "name": "python3"
  },
  "language_info": {
   "codemirror_mode": {
    "name": "ipython",
    "version": 3
   },
   "file_extension": ".py",
   "mimetype": "text/x-python",
   "name": "python",
   "nbconvert_exporter": "python",
   "pygments_lexer": "ipython3",
   "version": "3.6.5"
  },
  "widgets": {
   "state": {},
   "version": "1.1.2"
  }
 },
 "nbformat": 4,
 "nbformat_minor": 1
}
